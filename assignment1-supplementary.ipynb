{
 "cells": [
  {
   "cell_type": "markdown",
   "metadata": {},
   "source": [
    "# Variable scope in list comprehension\n",
    "Be careful about variable scope in list comprehension!"
   ]
  },
  {
   "cell_type": "code",
   "execution_count": 61,
   "metadata": {
    "collapsed": false
   },
   "outputs": [
    {
     "name": "stdout",
     "output_type": "stream",
     "text": [
      "Does variable 'k' exist? False\n",
      "List comprehension [0, 1, 2, 3, 4]\n",
      "Does variable 'k' exist now? True 4\n",
      "Count 98\n",
      "Count 98\n",
      "Count 98\n"
     ]
    }
   ],
   "source": [
    "# Make sure there is no variable named \"k\".\n",
    "try: \n",
    "    del k\n",
    "except:\n",
    "    pass \n",
    "\n",
    "print \"Does variable 'k' exist?\", 'k' in locals() or 'k' in globals()\n",
    "print \"List comprehension\", [k for k in range(5)]\n",
    "\n",
    "print \"Does variable 'k' exist now?\", \"k\" in locals(), k\n",
    "# k was created in that list comprehension. \n",
    "\n",
    "# Conquenently, we may see this:\n",
    "for i in range(3):\n",
    "    a = [i for i in range(99)]\n",
    "    print \"Count\", i"
   ]
  },
  {
   "cell_type": "markdown",
   "metadata": {},
   "source": [
    "**Remark.** In Python 3, variables in a list comprehension are local to the list, but avoiding a name conflict still makes codes more readable."
   ]
  },
  {
   "cell_type": "markdown",
   "metadata": {},
   "source": [
    "# Looping over objects\n",
    "\n",
    "We can directly loop over iterable objects (e.g. lists) or a string-like object."
   ]
  },
  {
   "cell_type": "code",
   "execution_count": 67,
   "metadata": {
    "collapsed": false
   },
   "outputs": [
    {
     "name": "stdout",
     "output_type": "stream",
     "text": [
      "# Loop over a list with index. \n",
      "komodo\n",
      "jellyfish\n",
      "frog\n",
      "pandas\n",
      "turtle\n",
      "conda\n",
      "\n",
      "# Actually, we can just loop over the list.\n",
      "komodo\n",
      "jellyfish\n",
      "frog\n",
      "pandas\n",
      "turtle\n",
      "conda\n",
      "\n",
      "# Is a string iterable? False\n",
      "# We can loop over a string like \n",
      "p\n",
      "y\n",
      "t\n",
      "h\n",
      "o\n",
      "n\n",
      "# because Python will create an iterator for objects with __getitem__\n",
      "# Does a string have __getitem__? True\n"
     ]
    }
   ],
   "source": [
    "some_python_packages = [\"komodo\", \"jellyfish\", \"frog\", \"pandas\", \"turtle\", \"conda\"]\n",
    "\n",
    "print \"# Loop over a list with index. \"\n",
    "for i in range(len(some_python_packages)):\n",
    "    print some_python_packages[i]\n",
    "\n",
    "print \"\\n# Actually, we can just loop over the list.\"\n",
    "for package in some_python_packages:\n",
    "    print package\n",
    "\n",
    "print \"\\n# Is a string iterable?\", hasattr(a[1], '__iter__')\n",
    "print \"# We can loop over a string like \"\n",
    "for c in \"python\":\n",
    "    print c\n",
    "print \"# because Python will create an iterator for objects with __getitem__\"\n",
    "print \"# Does a string have __getitem__?\", hasattr(\"I'm a string.\", '__getitem__')"
   ]
  },
  {
   "cell_type": "markdown",
   "metadata": {},
   "source": [
    "### Enumerate\n",
    "What if we need indexes also? Call enumerate function."
   ]
  },
  {
   "cell_type": "code",
   "execution_count": 55,
   "metadata": {
    "collapsed": false
   },
   "outputs": [
    {
     "name": "stdout",
     "output_type": "stream",
     "text": [
      "(0, 'komodo')\n",
      "(1, 'jellyfish')\n",
      "(2, 'frog')\n",
      "(3, 'pandas')\n",
      "(4, 'turtle')\n",
      "(5, 'conda')\n",
      "# Just enumerate it.\n",
      "(0, 'komodo')\n",
      "(1, 'jellyfish')\n",
      "(2, 'frog')\n",
      "(3, 'pandas')\n",
      "(4, 'turtle')\n",
      "(5, 'conda')\n"
     ]
    }
   ],
   "source": [
    "for i in range(len(some_python_packages)): \n",
    "    print (i, some_python_packages[i])\n",
    "\n",
    "print \"# Just enumerate it.\"\n",
    "for i in enumerate(some_python_packages):\n",
    "    print i"
   ]
  },
  {
   "cell_type": "markdown",
   "metadata": {},
   "source": [
    "### Don't create a list unless it is nessary.\n",
    "\n",
    "We only need \"iter\" operation, so just create an iterator."
   ]
  },
  {
   "cell_type": "code",
   "execution_count": 53,
   "metadata": {
    "collapsed": false
   },
   "outputs": [
    {
     "name": "stdout",
     "output_type": "stream",
     "text": [
      "# Create a new list and iterate over it. We create a list, but never use elements after 'pandas'\n",
      "1 jellyfish\n",
      "3 pandas\n",
      "5 conda\n",
      "\n",
      "# Use iterators instead.\n",
      "1 jellyfish\n",
      "3 pandas\n",
      "\n",
      "Does 'r' exist? False\n"
     ]
    }
   ],
   "source": [
    "def f(idx, s):\n",
    "    print idx, s\n",
    "    return s\n",
    "\n",
    "print \"# Create a new list and iterate over it. We create a list, but never use elements after 'pandas'\"\n",
    "for i in [f(j, k) for j, k in enumerate(some_python_packages) if j % 2]:\n",
    "    if i == 'pandas': break\n",
    "        \n",
    "print \"\\n# Use iterators instead.\"\n",
    "# Find the next element when for-loop requests.\n",
    "for i in (f(j, r) for j, r in enumerate(some_python_packages) if j % 2):\n",
    "    if i == 'pandas': break\n",
    "\n",
    "# Also note the variable scope in an iterator!\n",
    "print \"\\nDoes 'r' exist?\", 'r' in locals() or 'r' in globals() "
   ]
  },
  {
   "cell_type": "markdown",
   "metadata": {},
   "source": [
    "### Another example about looping over a dictionary"
   ]
  },
  {
   "cell_type": "code",
   "execution_count": 52,
   "metadata": {
    "collapsed": false
   },
   "outputs": [],
   "source": [
    "from sys import modules\n",
    "package_dict = {package: package in modules for package in some_python_packages}\n",
    "\n",
    "list1 = [i for i in package_dict.keys()]        # Create a list consisting of the keys of package_dict\n",
    "list2 = [i for i in package_dict.iterkeys()]    # Create an iterator. This method has been removed in Python 3.\n",
    "list3 = [i for i in package_dict]               # Simply iterate over the key set.\n",
    "\n",
    "assert list1 == list2\n",
    "assert list1 == list3\n",
    "\n",
    "# Create a new list only if we really need it (e.g. a sorted list).\n",
    "for i in sorted(a_dict.keys()):\n",
    "    pass\n",
    "    # Do something\n",
    "   "
   ]
  },
  {
   "cell_type": "markdown",
   "metadata": {},
   "source": [
    "# How to initialize a nested list\n",
    "\n",
    "Let's create a 5*3 matrix, represented by a nested list [[0, 0, 0], [0, 0, 0], [0, 255, 0], [0, 0, 0], [0, 0, 0]]."
   ]
  },
  {
   "cell_type": "code",
   "execution_count": 68,
   "metadata": {
    "collapsed": false
   },
   "outputs": [
    {
     "name": "stdout",
     "output_type": "stream",
     "text": [
      "First try: [[0, 0, 0], [0, 0, 0], [0, 0, 0], [0, 0, 0], [0, 0, 0]]\n",
      "Oops!      [[0, 255, 0], [0, 255, 0], [0, 255, 0], [0, 255, 0], [0, 255, 0]]\n",
      "Try again: [[0, 0, 0], [0, 0, 0], [0, 255, 0], [0, 0, 0], [0, 0, 0]]\n",
      "Also works: [[0, 255, 0], [0, 255, 0], [0, 255, 0], [0, 255, 0], [0, 255, 0]]\n"
     ]
    }
   ],
   "source": [
    "a = [[0] * 3] * 5\n",
    "print \"First try:\", a\n",
    "# looks fine. Let's modify an element.\n",
    "a[2][1] = 255\n",
    "print \"Oops!     \", a \n",
    "# because all elements point to one single list [0, 0, 0].\n",
    "\n",
    "a = [[0] * 3 for _ in range(5)] \n",
    "a[2][1] = 255\n",
    "print \"Try again:\", a\n",
    "# Phew.\n",
    "\n",
    "a = [b[:] for b in ([[0] * 3] * 5)]\n",
    "a[2][1] = 255\n",
    "print \"Also works:\", a\n",
    "# Actually this is faster. \n",
    "# The previous method created five [0, 0, 0]. \n",
    "# This one created only one [0, 0, 0] and copy it 5 times.\n"
   ]
  },
  {
   "cell_type": "markdown",
   "metadata": {},
   "source": [
    "# Close a file\n",
    "\n",
    "We can call \"close\" method to close a file object although this totally does not matter in Assignment 1. Actually, Python automatically do garbage collection (gc) if the opened file is EOF or a Python kernel/shell close. However, there are some reasons why we should always close a file object if we no longer need it.\n",
    "\n",
    "1. It is unpredictable when gc is done, and unclosed file objects will keep wasting system resources. It could turn to be something scary if a script runs for a long time.\n",
    "\n",
    "2. It depends on the version of Python interpreters when file objects are closed. Closing file objects make codes more portable.\n",
    "\n",
    "3. This could be a serious problem when writing data to a file. For example,"
   ]
  },
  {
   "cell_type": "code",
   "execution_count": null,
   "metadata": {
    "collapsed": true
   },
   "outputs": [],
   "source": [
    "f = open(\"output.txt\", \"w\")  # data.txt is created\n",
    "f.write(\"data\")              # data is in buffer, and \"output.txt is still empty.\n",
    "\n",
    "# Do something and make your computer crash.\n",
    "\n",
    "f.close()                    # Modify output.txt # It's too late."
   ]
  },
  {
   "cell_type": "markdown",
   "metadata": {},
   "source": [
    "Alternatively, we can \"with\" statement to open/close files in a more pythonic way. The file object will be automatically closed when we exit from the \"with\" block."
   ]
  },
  {
   "cell_type": "code",
   "execution_count": null,
   "metadata": {
    "collapsed": false
   },
   "outputs": [],
   "source": [
    "with open(\"data.txt\", 'w') as f:\n",
    "    # Do something\n",
    "    pass\n",
    "\n",
    "#Open multiple files\n",
    "with open(\"data.txt\", 'r') as data, open(\"output.txt\", 'w') as output:\n",
    "    # Do something\n",
    "    pass"
   ]
  },
  {
   "cell_type": "code",
   "execution_count": null,
   "metadata": {
    "collapsed": true
   },
   "outputs": [],
   "source": []
  }
 ],
 "metadata": {
  "kernelspec": {
   "display_name": "Python 2",
   "language": "python",
   "name": "python2"
  },
  "language_info": {
   "codemirror_mode": {
    "name": "ipython",
    "version": 2
   },
   "file_extension": ".py",
   "mimetype": "text/x-python",
   "name": "python",
   "nbconvert_exporter": "python",
   "pygments_lexer": "ipython2",
   "version": "2.7.6"
  }
 },
 "nbformat": 4,
 "nbformat_minor": 0
}
