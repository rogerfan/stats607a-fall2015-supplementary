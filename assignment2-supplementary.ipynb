{
 "cells": [
  {
   "cell_type": "markdown",
   "metadata": {},
   "source": [
    "## Numpy arrays are great, but not always faster than lists.\n",
    "\n",
    "Numpy arrays get speed-up mainly from better memory allocation and avoiding redundant type-checking. Construction and accessing one element in Numpy array are slow. If you need to frequently access individual elements in an array, lists may be a better choice (compared to Numpy arrays)."
   ]
  },
  {
   "cell_type": "code",
   "execution_count": 73,
   "metadata": {
    "collapsed": false
   },
   "outputs": [
    {
     "name": "stdout",
     "output_type": "stream",
     "text": [
      "Numpy array\n",
      "1000 loops, best of 3: 24.9 µs per loop\n",
      "List\n",
      "1000 loops, best of 3: 13.3 µs per loop\n"
     ]
    }
   ],
   "source": [
    "import numpy as np\n",
    "\n",
    "n = 50\n",
    "\n",
    "def d(x, y):\n",
    "    return np.log(np.sin(norm(x - y)) + 1)\n",
    "def f(n):\n",
    "    a = np.empty((n, n))\n",
    "    for i in data:\n",
    "        for j in data:\n",
    "            \n",
    "\n",
    "def fibonacci_numpy_array(n):\n",
    "    array = np.ones(n, dtype=int)\n",
    "    for i in range(2, n):\n",
    "        array[i] = array[i - 1] + array[i - 2]\n",
    "    return array\n",
    "\n",
    "\n",
    "def fibonacci_list(n): \n",
    "    array = np.ones(n, dtype=int)\n",
    "    array = array.tolist()\n",
    "    for i in range(2, n):\n",
    "        array[i] = array[i - 1] + array[i - 2]\n",
    "    return np.array(array)\n",
    "# We change the type of array twice in this function, but this is still faster.\n",
    "\n",
    "assert all(fibonacci_numpy_array(n) == fibonacci_list(n))\n",
    "\n",
    "print 'Numpy array'\n",
    "%timeit -n1000 fibonacci_numpy_array(n)\n",
    "print 'List'\n",
    "%timeit -n1000 fibonacci_list(n)"
   ]
  },
  {
   "cell_type": "markdown",
   "metadata": {},
   "source": [
    "## In-place operations\n",
    "\n",
    "Again, avoid unnecessary copy of objects."
   ]
  },
  {
   "cell_type": "code",
   "execution_count": 74,
   "metadata": {
    "collapsed": false
   },
   "outputs": [
    {
     "name": "stdout",
     "output_type": "stream",
     "text": [
      "Mulitplication\n",
      "10 loops, best of 3: 31.8 ms per loop\n",
      "In-place multiplication\n",
      "10 loops, best of 3: 23.9 ms per loop\n"
     ]
    }
   ],
   "source": [
    "def multiplication():\n",
    "    a = np.ones(10000000)\n",
    "    a = a * 2 \n",
    "    return a\n",
    "\n",
    "def inplace_multiplication():\n",
    "    a = np.ones(10000000)\n",
    "    a *= 2     # In-place; mathematically equivalent to a = a * 2\n",
    "    return a\n",
    "\n",
    "assert all(multiplication() == inplace_multiplication())\n",
    "\n",
    "print 'Mulitplication'\n",
    "%timeit multiplication()\n",
    "print 'In-place multiplication'\n",
    "%timeit inplace_multiplication()"
   ]
  },
  {
   "cell_type": "markdown",
   "metadata": {},
   "source": [
    "## Multiplication versus division\n",
    "Division is one of the slowest arithmetic operation on a CPU. Sometimes we can get speedup by avoiding division."
   ]
  },
  {
   "cell_type": "code",
   "execution_count": 75,
   "metadata": {
    "collapsed": false
   },
   "outputs": [
    {
     "name": "stdout",
     "output_type": "stream",
     "text": [
      "Divided by 2\n",
      "10000 loops, best of 3: 149 µs per loop\n",
      "Multiplied by 0.5\n",
      "10000 loops, best of 3: 51.5 µs per loop\n"
     ]
    }
   ],
   "source": [
    "a = np.random.normal(size=100000)\n",
    "\n",
    "def division():\n",
    "    return a / 2\n",
    "\n",
    "def multiplication():\n",
    "    return a * (1.0 / 2) \n",
    "\n",
    "assert all(division() == multiplication())\n",
    "\n",
    "print 'Divided by 2'\n",
    "%timeit division()              # 100000 divisions\n",
    "print 'Multiplied by 0.5'\n",
    "%timeit multiplication()        # 100000 mulitplications and one division"
   ]
  },
  {
   "cell_type": "markdown",
   "metadata": {},
   "source": [
    "## Get it even faster\n",
    "Python is not designed for very extensive computation, but why not make scripts run faster if we can?\n",
    "\n",
    "1. **Check package \"Cython\".** \n",
    "Cython provides a way to make Python scripts more C/C++ like. We may get speedup by giving up some Python/Numpy features such as duck typing and boundscheck.\n",
    "\n",
    "2. **Get a better BLAS.**\n",
    "When we call most matrix operations (addition, multiplication, spectral decomposition, SVD, etc.) in Numpy, it actually calls external \"BLAS\" libraries to do these tasks (https://en.wikipedia.org/wiki/Basic_Linear_Algebra_Subprograms). To speedup matrix operations, we can compile Numpy with other BLAS libraries, e.g. Altas, OpenBLAS (both are BSD licensed), and Intel MKL (free for non-commercial use on Linux). Compiling Numpy with BLAS is a little bit non-trivial, but totally worth your time. See the below comparison."
   ]
  },
  {
   "cell_type": "code",
   "execution_count": 76,
   "metadata": {
    "collapsed": false
   },
   "outputs": [
    {
     "name": "stdout",
     "output_type": "stream",
     "text": [
      "Default BLAS\n",
      "1 loops, best of 3: 17.8 s per loop\n"
     ]
    }
   ],
   "source": [
    "n = 2000\n",
    "A = np.random.normal(size=(n, n))\n",
    "B = np.random.normal(size=(n, n))\n",
    "\n",
    "print 'Default BLAS'\n",
    "%timeit A.dot(B)"
   ]
  },
  {
   "cell_type": "code",
   "execution_count": 2,
   "metadata": {
    "collapsed": false
   },
   "outputs": [
    {
     "name": "stdout",
     "output_type": "stream",
     "text": [
      "Numpy with OpenBLAS\n",
      "1 loops, best of 3: 693 ms per loop\n"
     ]
    }
   ],
   "source": [
    "import numpy_openblas as np\n",
    "n = 2000\n",
    "A = np.random.normal(size=(n, n))\n",
    "B = np.random.normal(size=(n, n))\n",
    "\n",
    "print 'Numpy with OpenBLAS'\n",
    "%timeit A.dot(B)"
   ]
  }
 ],
 "metadata": {
  "kernelspec": {
   "display_name": "Python 2",
   "language": "python",
   "name": "python2"
  },
  "language_info": {
   "codemirror_mode": {
    "name": "ipython",
    "version": 2
   },
   "file_extension": ".py",
   "mimetype": "text/x-python",
   "name": "python",
   "nbconvert_exporter": "python",
   "pygments_lexer": "ipython2",
   "version": "2.7.6"
  }
 },
 "nbformat": 4,
 "nbformat_minor": 0
}
